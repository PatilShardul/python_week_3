{
 "cells": [
  {
   "cell_type": "markdown",
   "metadata": {},
   "source": [
    "## Create an array from given list \n",
    "import numpy as np\n",
    "num_list=[12.23, 13.32, 100, 36.32]\n",
    "num_array=np.array(num_list)\n",
    "print(f\"number list : {num_list}\")\n",
    "print(f\"number array : {num_array}\")"
   ]
  },
  {
   "cell_type": "code",
   "execution_count": null,
   "metadata": {},
   "outputs": [],
   "source": [
    "import numpy as np \n",
    "num_list=[12.23, 13.32, 100, 36.32] \n",
    "num_array=np.array(num_list) \n",
    "print(f\"number list : {num_list}\") \n",
    "print(f\"number array : {num_array}\")"
   ]
  }
 ],
 "metadata": {
  "kernelspec": {
   "display_name": "Python 3",
   "language": "python",
   "name": "python3"
  },
  "language_info": {
   "codemirror_mode": {
    "name": "ipython",
    "version": 3
   },
   "file_extension": ".py",
   "mimetype": "text/x-python",
   "name": "python",
   "nbconvert_exporter": "python",
   "pygments_lexer": "ipython3",
   "version": "3.9.0"
  }
 },
 "nbformat": 4,
 "nbformat_minor": 4
}
