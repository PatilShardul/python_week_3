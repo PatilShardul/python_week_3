{
 "cells": [
  {
   "cell_type": "code",
   "execution_count": 1,
   "metadata": {},
   "outputs": [],
   "source": [
    "import numpy as np"
   ]
  },
  {
   "cell_type": "code",
   "execution_count": 2,
   "metadata": {},
   "outputs": [],
   "source": [
    "array_1 = [ 0, 10, 20, 40, 60, 80]\n",
    "array_2 = [10, 30, 40, 50, 70] "
   ]
  },
  {
   "cell_type": "code",
   "execution_count": 3,
   "metadata": {},
   "outputs": [],
   "source": [
    "exclusive_array=np.setxor1d(array_1,array_2)"
   ]
  },
  {
   "cell_type": "code",
   "execution_count": 4,
   "metadata": {},
   "outputs": [
    {
     "name": "stdout",
     "output_type": "stream",
     "text": [
      "Array1 : [0, 10, 20, 40, 60, 80]\n",
      "Array2: [10, 30, 40, 50, 70]\n",
      "Unique values that are in only one (not both) of the input arrays: [ 0 20 30 50 60 70 80]\n"
     ]
    }
   ],
   "source": [
    "print(f\"Array1 : {array_1}\")\n",
    "print(f\"Array2: {array_2}\")\n",
    "print(f\"Unique values that are in only one (not both) of the input arrays: {exclusive_array}\")"
   ]
  },
  {
   "cell_type": "code",
   "execution_count": null,
   "metadata": {},
   "outputs": [],
   "source": []
  }
 ],
 "metadata": {
  "kernelspec": {
   "display_name": "Python 3",
   "language": "python",
   "name": "python3"
  },
  "language_info": {
   "codemirror_mode": {
    "name": "ipython",
    "version": 3
   },
   "file_extension": ".py",
   "mimetype": "text/x-python",
   "name": "python",
   "nbconvert_exporter": "python",
   "pygments_lexer": "ipython3",
   "version": "3.9.0"
  }
 },
 "nbformat": 4,
 "nbformat_minor": 4
}
