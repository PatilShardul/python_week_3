{
 "cells": [
  {
   "cell_type": "code",
   "execution_count": 1,
   "metadata": {},
   "outputs": [],
   "source": [
    "import numpy as np"
   ]
  },
  {
   "cell_type": "code",
   "execution_count": 2,
   "metadata": {},
   "outputs": [],
   "source": [
    "array_1 = np.array([1,2])\n",
    "array_2 = np.array([4,5])"
   ]
  },
  {
   "cell_type": "code",
   "execution_count": 3,
   "metadata": {},
   "outputs": [],
   "source": [
    "is_greater_than=array_1>array_2\n",
    "is_greater_than_equal_to= array_1 >= array_2\n",
    "is_smaller_than=array_1<array_2\n",
    "is_smaller_than_equalto=array_1<=array_2\n"
   ]
  },
  {
   "cell_type": "code",
   "execution_count": 4,
   "metadata": {},
   "outputs": [
    {
     "name": "stdout",
     "output_type": "stream",
     "text": [
      " a > b : \n",
      " [False False]\n",
      " a >= b : \n",
      " [False False] \n",
      " a < b : \n",
      " [ True  True] \n",
      " a <= b : \n",
      " [ True  True]\n"
     ]
    }
   ],
   "source": [
    "print(f\" a > b : \\n {is_greater_than}\\n a >= b : \\n {is_greater_than_equal_to} \\n a < b : \\n {is_smaller_than} \\n a <= b : \\n {is_smaller_than_equalto}\")"
   ]
  },
  {
   "cell_type": "code",
   "execution_count": null,
   "metadata": {},
   "outputs": [],
   "source": []
  }
 ],
 "metadata": {
  "kernelspec": {
   "display_name": "Python 3",
   "language": "python",
   "name": "python3"
  },
  "language_info": {
   "codemirror_mode": {
    "name": "ipython",
    "version": 3
   },
   "file_extension": ".py",
   "mimetype": "text/x-python",
   "name": "python",
   "nbconvert_exporter": "python",
   "pygments_lexer": "ipython3",
   "version": "3.9.0"
  }
 },
 "nbformat": 4,
 "nbformat_minor": 4
}
