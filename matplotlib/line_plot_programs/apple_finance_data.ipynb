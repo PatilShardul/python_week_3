{
 "cells": [
  {
   "cell_type": "code",
   "execution_count": 3,
   "metadata": {},
   "outputs": [
    {
     "ename": "NameError",
     "evalue": "name 'yticks' is not defined",
     "output_type": "error",
     "traceback": [
      "\u001b[1;31m---------------------------------------------------------------------------\u001b[0m",
      "\u001b[1;31mNameError\u001b[0m                                 Traceback (most recent call last)",
      "\u001b[1;32m<ipython-input-3-b01c33a7d25f>\u001b[0m in \u001b[0;36m<module>\u001b[1;34m\u001b[0m\n\u001b[0;32m     16\u001b[0m \u001b[0mplt\u001b[0m\u001b[1;33m.\u001b[0m\u001b[0mylabel\u001b[0m\u001b[1;33m(\u001b[0m\u001b[1;34m'open'\u001b[0m\u001b[1;33m)\u001b[0m\u001b[1;33m\u001b[0m\u001b[1;33m\u001b[0m\u001b[0m\n\u001b[0;32m     17\u001b[0m \u001b[0mplt\u001b[0m\u001b[1;33m.\u001b[0m\u001b[0mxlabel\u001b[0m\u001b[1;33m(\u001b[0m\u001b[1;34m'date'\u001b[0m\u001b[1;33m)\u001b[0m\u001b[1;33m\u001b[0m\u001b[1;33m\u001b[0m\u001b[0m\n\u001b[1;32m---> 18\u001b[1;33m \u001b[0myticks\u001b[0m\u001b[1;33m(\u001b[0m\u001b[0mindex_y\u001b[0m\u001b[1;33m,\u001b[0m \u001b[0mopen_y\u001b[0m\u001b[1;33m)\u001b[0m\u001b[1;33m\u001b[0m\u001b[1;33m\u001b[0m\u001b[0m\n\u001b[0m\u001b[0;32m     19\u001b[0m \u001b[0mplt\u001b[0m\u001b[1;33m.\u001b[0m\u001b[0mplot\u001b[0m\u001b[1;33m(\u001b[0m\u001b[0mdate_x\u001b[0m\u001b[1;33m,\u001b[0m\u001b[0mopen_y\u001b[0m\u001b[1;33m,\u001b[0m\u001b[0mcolor\u001b[0m\u001b[1;33m=\u001b[0m\u001b[1;34m\"r\"\u001b[0m\u001b[1;33m)\u001b[0m\u001b[1;33m\u001b[0m\u001b[1;33m\u001b[0m\u001b[0m\n\u001b[0;32m     20\u001b[0m \u001b[1;33m\u001b[0m\u001b[0m\n",
      "\u001b[1;31mNameError\u001b[0m: name 'yticks' is not defined"
     ]
    },
    {
     "data": {
      "image/png": "[encoded data removed]",
      "text/plain": [
       "<Figure size 432x288 with 1 Axes>"
      ]
     },
     "metadata": {
      "needs_background": "light"
     },
     "output_type": "display_data"
    }
   ],
   "source": [
    "import matplotlib.pyplot as plt\n",
    "import numpy as np\n",
    "\n",
    "with open('fdata.csv') as csv_file:\n",
    "    csv_data= csv_file.read()\n",
    "csv_data = csv_data.split(\"\\n\")\n",
    "\n",
    "\n",
    "\n",
    "date_x=[row.split(',')[0] for row in csv_data]\n",
    "open_y=[row.split(',')[1] for row in csv_data]\n",
    "high_y=[row.split(',')[2] for row in csv_data]\n",
    "low_y=[row.split(',')[3] for row in csv_data]\n",
    "close_y=[row.split(',')[4] for row in csv_data]\n",
    "\n",
    "plt.ylabel('open')\n",
    "plt.xlabel('date')\n",
    "plt.plot(date_x,open_y,color=\"r\")\n",
    "\n",
    "plt.xlabel('date')\n",
    "plt.ylabel('high')\n",
    "plt.plot(date_x,high_y,data=index_y,color=\"g\")\n",
    "plt.show()\n",
    "\n",
    "plt.xlabel('date')\n",
    "plt.ylabel('low')\n",
    "plt.plot(date_x,low_y,color=\"b\")\n",
    "plt.show()\n",
    "\n",
    "plt.xlabel('date')\n",
    "plt.ylabel('close')\n",
    "plt.plot(date_x,close_y,color=\"darkorange\")\n",
    "plt.show()    \n",
    "\n"
   ]
  },
  {
   "cell_type": "code",
   "execution_count": null,
   "metadata": {},
   "outputs": [],
   "source": []
  },
  {
   "cell_type": "code",
   "execution_count": null,
   "metadata": {},
   "outputs": [],
   "source": []
  }
 ],
 "metadata": {
  "kernelspec": {
   "display_name": "Python 3",
   "language": "python",
   "name": "python3"
  },
  "language_info": {
   "codemirror_mode": {
    "name": "ipython",
    "version": 3
   },
   "file_extension": ".py",
   "mimetype": "text/x-python",
   "name": "python",
   "nbconvert_exporter": "python",
   "pygments_lexer": "ipython3",
   "version": "3.9.0"
  }
 },
 "nbformat": 4,
 "nbformat_minor": 4
}
